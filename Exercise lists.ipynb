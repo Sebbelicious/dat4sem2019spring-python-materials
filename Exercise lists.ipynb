{
 "cells": [
  {
   "cell_type": "markdown",
   "metadata": {},
   "source": [
    "# Exercises\n",
    "\n",
    "![get_started](https://s-media-cache-ak0.pinimg.com/originals/9f/73/e3/9f73e3f8a958dbe03b0f76f8811a54a1.gif)\n",
    "\n",
    "  1. Create a list with the integer values from one to one million. Use `min()` and `max()` to make sure your list actually starts at one and ends at one million. Also, use the `sum()` function to compute the sum of all values and `%timeit`'s execution time.\n",
    "  2. Write a single line program that computes the sum of a range of integer values without using the `sum()` function and without using a loop.\n",
    "  3. Use the `range()` function to make a list of the odd numbers from 1 to 20. **Hint** in ipython and this notebooks you can see a functions help text by executing for example `range?`\n",
    "  4. Create a list of the multiples of 3 from 3 to 30. **HINT: USE A LIST COMPREHENSION**\n",
    "  5. A number raised to the third power is called a cube. For example, the cube of 2 is written as `2**3` in Python. Create a list of the first 10 cubes (that is, the cube of each integer from 1 through 10).\n"
   ]
  },
  {
   "cell_type": "code",
   "execution_count": 5,
   "metadata": {},
   "outputs": [
    {
     "name": "stdout",
     "output_type": "stream",
     "text": [
      "1\n",
      "1000000\n",
      "25.1 ms ± 775 µs per loop (mean ± std. dev. of 7 runs, 10 loops each)\n"
     ]
    }
   ],
   "source": [
    "# 1\n",
    "\n",
    "import timeit\n",
    "\n",
    "res = []\n",
    "for i in range (1,1000001):\n",
    "    res.append(i)\n",
    "\n",
    "print(min(res))\n",
    "print(max(res))\n",
    "\n",
    "%timeit sum(res)\n",
    "\n"
   ]
  },
  {
   "cell_type": "code",
   "execution_count": 28,
   "metadata": {},
   "outputs": [
    {
     "name": "stdout",
     "output_type": "stream",
     "text": [
      "55\n"
     ]
    }
   ],
   "source": [
    "# 2\n",
    "\n",
    "from functools import reduce\n",
    "\n",
    "product = reduce((lambda x, y: x+y), range(1,11))\n",
    "\n",
    "print(product)\n",
    "    "
   ]
  },
  {
   "cell_type": "code",
   "execution_count": 17,
   "metadata": {},
   "outputs": [
    {
     "name": "stdout",
     "output_type": "stream",
     "text": [
      "[1, 3, 5, 7, 9, 11, 13, 15, 17, 19]\n"
     ]
    }
   ],
   "source": [
    "# 3\n",
    "\n",
    "nums = []\n",
    "\n",
    "for i in range(1,21):\n",
    "    if(i%2 == 1):\n",
    "        nums.append(i)\n",
    "\n",
    "\n",
    "print(nums)"
   ]
  },
  {
   "cell_type": "code",
   "execution_count": 33,
   "metadata": {},
   "outputs": [
    {
     "name": "stdout",
     "output_type": "stream",
     "text": [
      "[3, 6, 9, 12, 15, 18, 21, 24, 27, 30]\n"
     ]
    }
   ],
   "source": [
    "# 4\n",
    "\n",
    "nums = [value for value in range(3,31) if value%3==0]\n",
    "\n",
    "    \n",
    "print(nums)"
   ]
  },
  {
   "cell_type": "code",
   "execution_count": 34,
   "metadata": {},
   "outputs": [
    {
     "name": "stdout",
     "output_type": "stream",
     "text": [
      "[1, 8, 27, 64, 125, 216, 343, 512, 729]\n"
     ]
    }
   ],
   "source": [
    "# 5\n",
    "nums = [value**3 for value in range (1,10)]\n",
    "\n",
    "print(nums)"
   ]
  },
  {
   "cell_type": "code",
   "execution_count": null,
   "metadata": {},
   "outputs": [],
   "source": []
  }
 ],
 "metadata": {
  "kernelspec": {
   "display_name": "Python 3",
   "language": "python",
   "name": "python3"
  },
  "language_info": {
   "codemirror_mode": {
    "name": "ipython",
    "version": 3
   },
   "file_extension": ".py",
   "mimetype": "text/x-python",
   "name": "python",
   "nbconvert_exporter": "python",
   "pygments_lexer": "ipython3",
   "version": "3.7.1"
  }
 },
 "nbformat": 4,
 "nbformat_minor": 2
}
